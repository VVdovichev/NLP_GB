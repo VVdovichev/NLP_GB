{
  "nbformat": 4,
  "nbformat_minor": 0,
  "metadata": {
    "colab": {
      "provenance": [],
      "collapsed_sections": [],
      "authorship_tag": "ABX9TyNLqMf4+rsRrBPZZVN57NMl",
      "include_colab_link": true
    },
    "kernelspec": {
      "name": "python3",
      "display_name": "Python 3"
    },
    "language_info": {
      "name": "python"
    }
  },
  "cells": [
    {
      "cell_type": "markdown",
      "metadata": {
        "id": "view-in-github",
        "colab_type": "text"
      },
      "source": [
        "<a href=\"https://colab.research.google.com/github/VVdovichev/NLP_GB/blob/main/NLP_hw_2.ipynb\" target=\"_parent\"><img src=\"https://colab.research.google.com/assets/colab-badge.svg\" alt=\"Open In Colab\"/></a>"
      ]
    },
    {
      "cell_type": "markdown",
      "source": [
        "###Урок 2. Создание признакового пространства"
      ],
      "metadata": {
        "id": "cIt6xREsU8ed"
      }
    },
    {
      "cell_type": "code",
      "execution_count": 70,
      "metadata": {
        "colab": {
          "base_uri": "https://localhost:8080/"
        },
        "id": "VkkzzavTJLwE",
        "outputId": "c183a3c7-8c8f-41bb-c9b6-2a82bfbab0e9"
      },
      "outputs": [
        {
          "output_type": "stream",
          "name": "stdout",
          "text": [
            "--2022-10-24 04:51:05--  https://www.dropbox.com/s/fnpq3z4bcnoktiv/positive.csv\n",
            "Resolving www.dropbox.com (www.dropbox.com)... 162.125.1.18, 2620:100:6016:18::a27d:112\n",
            "Connecting to www.dropbox.com (www.dropbox.com)|162.125.1.18|:443... connected.\n",
            "HTTP request sent, awaiting response... 302 Found\n",
            "Location: /s/raw/fnpq3z4bcnoktiv/positive.csv [following]\n",
            "--2022-10-24 04:51:05--  https://www.dropbox.com/s/raw/fnpq3z4bcnoktiv/positive.csv\n",
            "Reusing existing connection to www.dropbox.com:443.\n",
            "HTTP request sent, awaiting response... 302 Found\n",
            "Location: https://uc1cd4912bfe0e2fa1cd89e2ba05.dl.dropboxusercontent.com/cd/0/inline/BvYaFQanm9kW5Bv6SUTyUkoM6O1TOQFetQ55atCdK13rlax_xlhsmZhjP7WMIJrn28KPOFIfL3NXxh-_LorSfZFuzRXMJzSo-7ZEA3ESM6W5DT-QfwcYJBKzX-mPluBbWJHjxEsZ1fcV011KI7cy5ERVtUWzo3bIdVhG1Xsd_HVAiw/file# [following]\n",
            "--2022-10-24 04:51:06--  https://uc1cd4912bfe0e2fa1cd89e2ba05.dl.dropboxusercontent.com/cd/0/inline/BvYaFQanm9kW5Bv6SUTyUkoM6O1TOQFetQ55atCdK13rlax_xlhsmZhjP7WMIJrn28KPOFIfL3NXxh-_LorSfZFuzRXMJzSo-7ZEA3ESM6W5DT-QfwcYJBKzX-mPluBbWJHjxEsZ1fcV011KI7cy5ERVtUWzo3bIdVhG1Xsd_HVAiw/file\n",
            "Resolving uc1cd4912bfe0e2fa1cd89e2ba05.dl.dropboxusercontent.com (uc1cd4912bfe0e2fa1cd89e2ba05.dl.dropboxusercontent.com)... 162.125.1.15, 2620:100:6016:15::a27d:10f\n",
            "Connecting to uc1cd4912bfe0e2fa1cd89e2ba05.dl.dropboxusercontent.com (uc1cd4912bfe0e2fa1cd89e2ba05.dl.dropboxusercontent.com)|162.125.1.15|:443... connected.\n",
            "HTTP request sent, awaiting response... 200 OK\n",
            "Length: 26233379 (25M) [text/plain]\n",
            "Saving to: ‘positive.csv.6’\n",
            "\n",
            "positive.csv.6      100%[===================>]  25.02M  --.-KB/s    in 0.1s    \n",
            "\n",
            "2022-10-24 04:51:07 (183 MB/s) - ‘positive.csv.6’ saved [26233379/26233379]\n",
            "\n",
            "--2022-10-24 04:51:07--  https://www.dropbox.com/s/r6u59ljhhjdg6j0/negative.csv\n",
            "Resolving www.dropbox.com (www.dropbox.com)... 162.125.1.18, 2620:100:6016:18::a27d:112\n",
            "Connecting to www.dropbox.com (www.dropbox.com)|162.125.1.18|:443... connected.\n",
            "HTTP request sent, awaiting response... 302 Found\n",
            "Location: /s/raw/r6u59ljhhjdg6j0/negative.csv [following]\n",
            "--2022-10-24 04:51:07--  https://www.dropbox.com/s/raw/r6u59ljhhjdg6j0/negative.csv\n",
            "Reusing existing connection to www.dropbox.com:443.\n",
            "HTTP request sent, awaiting response... 302 Found\n",
            "Location: https://ucf494d1d7525d2c1a9e592654d7.dl.dropboxusercontent.com/cd/0/inline/Bva9lmDEfRFwZxSsyIOkDJrh75uQvZEDGBz4maUihE-AtK7gqnVu08iQeP-OXrEuLFkKhXxDOWoszDpXyL5vCH-JdG-B3474rkTX6GSHj3KDCc1R87VOnD1uxM36r-YX7fN6t4O4N5fUtL2cmMsRWb01LxgcBgRXh2NQAxeVCj3IgA/file# [following]\n",
            "--2022-10-24 04:51:07--  https://ucf494d1d7525d2c1a9e592654d7.dl.dropboxusercontent.com/cd/0/inline/Bva9lmDEfRFwZxSsyIOkDJrh75uQvZEDGBz4maUihE-AtK7gqnVu08iQeP-OXrEuLFkKhXxDOWoszDpXyL5vCH-JdG-B3474rkTX6GSHj3KDCc1R87VOnD1uxM36r-YX7fN6t4O4N5fUtL2cmMsRWb01LxgcBgRXh2NQAxeVCj3IgA/file\n",
            "Resolving ucf494d1d7525d2c1a9e592654d7.dl.dropboxusercontent.com (ucf494d1d7525d2c1a9e592654d7.dl.dropboxusercontent.com)... 162.125.1.15, 2620:100:6016:15::a27d:10f\n",
            "Connecting to ucf494d1d7525d2c1a9e592654d7.dl.dropboxusercontent.com (ucf494d1d7525d2c1a9e592654d7.dl.dropboxusercontent.com)|162.125.1.15|:443... connected.\n",
            "HTTP request sent, awaiting response... 200 OK\n",
            "Length: 24450101 (23M) [text/plain]\n",
            "Saving to: ‘negative.csv.6’\n",
            "\n",
            "negative.csv.6      100%[===================>]  23.32M  33.9MB/s    in 0.7s    \n",
            "\n",
            "2022-10-24 04:51:08 (33.9 MB/s) - ‘negative.csv.6’ saved [24450101/24450101]\n",
            "\n"
          ]
        }
      ],
      "source": [
        "!wget https://www.dropbox.com/s/fnpq3z4bcnoktiv/positive.csv\n",
        "!wget https://www.dropbox.com/s/r6u59ljhhjdg6j0/negative.csv"
      ]
    },
    {
      "cell_type": "code",
      "source": [
        "import nltk\n",
        "from nltk.corpus import stopwords\n",
        "from nltk.corpus.reader.tagged import word_tokenize\n",
        "import numpy as np\n",
        "import pandas as pd\n",
        "\n",
        "from string import punctuation\n",
        "from html import unescape\n",
        "\n",
        "from sklearn.feature_extraction.text import CountVectorizer, TfidfVectorizer, HashingVectorizer\n",
        "from sklearn.model_selection import train_test_split\n",
        "from sklearn.linear_model import LogisticRegression\n",
        "\n",
        "from sklearn.metrics import precision_score, recall_score, f1_score, classification_report\n",
        "\n",
        "import torch\n",
        "from tqdm import tqdm\n",
        "\n",
        "\n",
        "nltk.download('stopwords')\n",
        "nltk.download('punkt')\n",
        "nltk.download('wordnet')\n",
        "nltk.download('omw-1.4')"
      ],
      "metadata": {
        "colab": {
          "base_uri": "https://localhost:8080/"
        },
        "id": "BfLgPCXaKKOx",
        "outputId": "09c6d2ea-f4f6-4f7b-aca4-376d4e6aa871"
      },
      "execution_count": 71,
      "outputs": [
        {
          "output_type": "stream",
          "name": "stderr",
          "text": [
            "[nltk_data] Downloading package stopwords to /root/nltk_data...\n",
            "[nltk_data]   Package stopwords is already up-to-date!\n",
            "[nltk_data] Downloading package punkt to /root/nltk_data...\n",
            "[nltk_data]   Package punkt is already up-to-date!\n",
            "[nltk_data] Downloading package wordnet to /root/nltk_data...\n",
            "[nltk_data]   Package wordnet is already up-to-date!\n",
            "[nltk_data] Downloading package omw-1.4 to /root/nltk_data...\n",
            "[nltk_data]   Package omw-1.4 is already up-to-date!\n"
          ]
        },
        {
          "output_type": "execute_result",
          "data": {
            "text/plain": [
              "True"
            ]
          },
          "metadata": {},
          "execution_count": 71
        }
      ]
    },
    {
      "cell_type": "code",
      "source": [
        "# считываем данные и заполняем общий датасет\n",
        "positive = pd.read_csv('positive.csv', sep=';', usecols=[3], names=['text'])\n",
        "positive['label'] = ['positive'] * len(positive)\n",
        "negative = pd.read_csv('negative.csv', sep=';', usecols=[3], names=['text'])\n",
        "negative['label'] = ['negative'] * len(negative)\n",
        "data = pd.concat([positive, negative]).reset_index(drop=True)\n",
        "data.tail(10)"
      ],
      "metadata": {
        "colab": {
          "base_uri": "https://localhost:8080/",
          "height": 363
        },
        "id": "8nUUERFnKR21",
        "outputId": "44da0cdd-2e3b-4760-93ca-a6bebca78059"
      },
      "execution_count": 72,
      "outputs": [
        {
          "output_type": "execute_result",
          "data": {
            "text/plain": [
              "                                                     text     label\n",
              "226824  @ivanenko14 и у меня также, только будильник е...  negative\n",
              "226825  Когда же я вернусь к тебе(( http://t.co/36qnCO...  negative\n",
              "226826  RT @qelasocadij: Скажите пожалуйста, как у чел...  negative\n",
              "226827  У нас физ ра на улице\\nПака линт:(\\nЧерез 45 м...  negative\n",
              "226828  Нас сегодня отказались принять в сад, типа мы ...  negative\n",
              "226829  Но не каждый хочет что то исправлять:( http://...  negative\n",
              "226830  скучаю так :-( только @taaannyaaa вправляет мо...  negative\n",
              "226831          Вот и в школу, в говно это идти уже надо(  negative\n",
              "226832  RT @_Them__: @LisaBeroud Тауриэль, не грусти :...  negative\n",
              "226833  Такси везет меня на работу. Раздумываю приплат...  negative"
            ],
            "text/html": [
              "\n",
              "  <div id=\"df-a594aafe-0d24-40cd-9206-8aad32b53d94\">\n",
              "    <div class=\"colab-df-container\">\n",
              "      <div>\n",
              "<style scoped>\n",
              "    .dataframe tbody tr th:only-of-type {\n",
              "        vertical-align: middle;\n",
              "    }\n",
              "\n",
              "    .dataframe tbody tr th {\n",
              "        vertical-align: top;\n",
              "    }\n",
              "\n",
              "    .dataframe thead th {\n",
              "        text-align: right;\n",
              "    }\n",
              "</style>\n",
              "<table border=\"1\" class=\"dataframe\">\n",
              "  <thead>\n",
              "    <tr style=\"text-align: right;\">\n",
              "      <th></th>\n",
              "      <th>text</th>\n",
              "      <th>label</th>\n",
              "    </tr>\n",
              "  </thead>\n",
              "  <tbody>\n",
              "    <tr>\n",
              "      <th>226824</th>\n",
              "      <td>@ivanenko14 и у меня также, только будильник е...</td>\n",
              "      <td>negative</td>\n",
              "    </tr>\n",
              "    <tr>\n",
              "      <th>226825</th>\n",
              "      <td>Когда же я вернусь к тебе(( http://t.co/36qnCO...</td>\n",
              "      <td>negative</td>\n",
              "    </tr>\n",
              "    <tr>\n",
              "      <th>226826</th>\n",
              "      <td>RT @qelasocadij: Скажите пожалуйста, как у чел...</td>\n",
              "      <td>negative</td>\n",
              "    </tr>\n",
              "    <tr>\n",
              "      <th>226827</th>\n",
              "      <td>У нас физ ра на улице\\nПака линт:(\\nЧерез 45 м...</td>\n",
              "      <td>negative</td>\n",
              "    </tr>\n",
              "    <tr>\n",
              "      <th>226828</th>\n",
              "      <td>Нас сегодня отказались принять в сад, типа мы ...</td>\n",
              "      <td>negative</td>\n",
              "    </tr>\n",
              "    <tr>\n",
              "      <th>226829</th>\n",
              "      <td>Но не каждый хочет что то исправлять:( http://...</td>\n",
              "      <td>negative</td>\n",
              "    </tr>\n",
              "    <tr>\n",
              "      <th>226830</th>\n",
              "      <td>скучаю так :-( только @taaannyaaa вправляет мо...</td>\n",
              "      <td>negative</td>\n",
              "    </tr>\n",
              "    <tr>\n",
              "      <th>226831</th>\n",
              "      <td>Вот и в школу, в говно это идти уже надо(</td>\n",
              "      <td>negative</td>\n",
              "    </tr>\n",
              "    <tr>\n",
              "      <th>226832</th>\n",
              "      <td>RT @_Them__: @LisaBeroud Тауриэль, не грусти :...</td>\n",
              "      <td>negative</td>\n",
              "    </tr>\n",
              "    <tr>\n",
              "      <th>226833</th>\n",
              "      <td>Такси везет меня на работу. Раздумываю приплат...</td>\n",
              "      <td>negative</td>\n",
              "    </tr>\n",
              "  </tbody>\n",
              "</table>\n",
              "</div>\n",
              "      <button class=\"colab-df-convert\" onclick=\"convertToInteractive('df-a594aafe-0d24-40cd-9206-8aad32b53d94')\"\n",
              "              title=\"Convert this dataframe to an interactive table.\"\n",
              "              style=\"display:none;\">\n",
              "        \n",
              "  <svg xmlns=\"http://www.w3.org/2000/svg\" height=\"24px\"viewBox=\"0 0 24 24\"\n",
              "       width=\"24px\">\n",
              "    <path d=\"M0 0h24v24H0V0z\" fill=\"none\"/>\n",
              "    <path d=\"M18.56 5.44l.94 2.06.94-2.06 2.06-.94-2.06-.94-.94-2.06-.94 2.06-2.06.94zm-11 1L8.5 8.5l.94-2.06 2.06-.94-2.06-.94L8.5 2.5l-.94 2.06-2.06.94zm10 10l.94 2.06.94-2.06 2.06-.94-2.06-.94-.94-2.06-.94 2.06-2.06.94z\"/><path d=\"M17.41 7.96l-1.37-1.37c-.4-.4-.92-.59-1.43-.59-.52 0-1.04.2-1.43.59L10.3 9.45l-7.72 7.72c-.78.78-.78 2.05 0 2.83L4 21.41c.39.39.9.59 1.41.59.51 0 1.02-.2 1.41-.59l7.78-7.78 2.81-2.81c.8-.78.8-2.07 0-2.86zM5.41 20L4 18.59l7.72-7.72 1.47 1.35L5.41 20z\"/>\n",
              "  </svg>\n",
              "      </button>\n",
              "      \n",
              "  <style>\n",
              "    .colab-df-container {\n",
              "      display:flex;\n",
              "      flex-wrap:wrap;\n",
              "      gap: 12px;\n",
              "    }\n",
              "\n",
              "    .colab-df-convert {\n",
              "      background-color: #E8F0FE;\n",
              "      border: none;\n",
              "      border-radius: 50%;\n",
              "      cursor: pointer;\n",
              "      display: none;\n",
              "      fill: #1967D2;\n",
              "      height: 32px;\n",
              "      padding: 0 0 0 0;\n",
              "      width: 32px;\n",
              "    }\n",
              "\n",
              "    .colab-df-convert:hover {\n",
              "      background-color: #E2EBFA;\n",
              "      box-shadow: 0px 1px 2px rgba(60, 64, 67, 0.3), 0px 1px 3px 1px rgba(60, 64, 67, 0.15);\n",
              "      fill: #174EA6;\n",
              "    }\n",
              "\n",
              "    [theme=dark] .colab-df-convert {\n",
              "      background-color: #3B4455;\n",
              "      fill: #D2E3FC;\n",
              "    }\n",
              "\n",
              "    [theme=dark] .colab-df-convert:hover {\n",
              "      background-color: #434B5C;\n",
              "      box-shadow: 0px 1px 3px 1px rgba(0, 0, 0, 0.15);\n",
              "      filter: drop-shadow(0px 1px 2px rgba(0, 0, 0, 0.3));\n",
              "      fill: #FFFFFF;\n",
              "    }\n",
              "  </style>\n",
              "\n",
              "      <script>\n",
              "        const buttonEl =\n",
              "          document.querySelector('#df-a594aafe-0d24-40cd-9206-8aad32b53d94 button.colab-df-convert');\n",
              "        buttonEl.style.display =\n",
              "          google.colab.kernel.accessAllowed ? 'block' : 'none';\n",
              "\n",
              "        async function convertToInteractive(key) {\n",
              "          const element = document.querySelector('#df-a594aafe-0d24-40cd-9206-8aad32b53d94');\n",
              "          const dataTable =\n",
              "            await google.colab.kernel.invokeFunction('convertToInteractive',\n",
              "                                                     [key], {});\n",
              "          if (!dataTable) return;\n",
              "\n",
              "          const docLinkHtml = 'Like what you see? Visit the ' +\n",
              "            '<a target=\"_blank\" href=https://colab.research.google.com/notebooks/data_table.ipynb>data table notebook</a>'\n",
              "            + ' to learn more about interactive tables.';\n",
              "          element.innerHTML = '';\n",
              "          dataTable['output_type'] = 'display_data';\n",
              "          await google.colab.output.renderOutput(dataTable, element);\n",
              "          const docLink = document.createElement('div');\n",
              "          docLink.innerHTML = docLinkHtml;\n",
              "          element.appendChild(docLink);\n",
              "        }\n",
              "      </script>\n",
              "    </div>\n",
              "  </div>\n",
              "  "
            ]
          },
          "metadata": {},
          "execution_count": 72
        }
      ]
    },
    {
      "cell_type": "code",
      "source": [
        "data.info()"
      ],
      "metadata": {
        "colab": {
          "base_uri": "https://localhost:8080/"
        },
        "id": "WSNutsWZKmCy",
        "outputId": "328dbe6d-97ec-46bf-ff73-05e49c12d257"
      },
      "execution_count": 73,
      "outputs": [
        {
          "output_type": "stream",
          "name": "stdout",
          "text": [
            "<class 'pandas.core.frame.DataFrame'>\n",
            "RangeIndex: 226834 entries, 0 to 226833\n",
            "Data columns (total 2 columns):\n",
            " #   Column  Non-Null Count   Dtype \n",
            "---  ------  --------------   ----- \n",
            " 0   text    226834 non-null  object\n",
            " 1   label   226834 non-null  object\n",
            "dtypes: object(2)\n",
            "memory usage: 3.5+ MB\n"
          ]
        }
      ]
    },
    {
      "cell_type": "markdown",
      "source": [
        "Задание 1.\n",
        "Задание: обучите три классификатора:\n",
        "\n",
        "1) на токенах с высокой частотой\n",
        "\n",
        "2) на токенах со средней частотой\n",
        "\n",
        "3) на токенах с низкой частотой\n",
        "\n",
        "Сравните полученные результаты, оцените какие токены наиболее важные для классификации."
      ],
      "metadata": {
        "id": "bEzYQ-mPVE8X"
      }
    },
    {
      "cell_type": "code",
      "source": [
        "x_train, x_test, y_train, y_test = train_test_split(data.text, data.label)"
      ],
      "metadata": {
        "id": "I2qm0ivdc5JX"
      },
      "execution_count": 74,
      "outputs": []
    },
    {
      "cell_type": "code",
      "source": [
        "noise = stopwords.words('russian') + list(punctuation)\n",
        "cnvec_high = CountVectorizer(min_df=1, max_df=0.9, tokenizer=word_tokenize, stop_words=noise)\n",
        "cnvec_mid = CountVectorizer(min_df=1e-3, max_df=0.7, tokenizer=word_tokenize, stop_words=noise)\n",
        "cnvec_low = CountVectorizer(min_df=1e-5, max_df=0.3, tokenizer=word_tokenize, stop_words=noise)"
      ],
      "metadata": {
        "id": "9kI-mjvqaH3V"
      },
      "execution_count": 75,
      "outputs": []
    },
    {
      "cell_type": "code",
      "source": [
        "bow_cnvec_high = cnvec_high.fit_transform(x_train)\n",
        "lr = LogisticRegression(random_state=42)\n",
        "lr.fit(bow_cnvec_high, y_train)\n",
        "pred_high = lr.predict(cnvec_high.transform(x_test))\n",
        "print(classification_report(pred_high, y_test))"
      ],
      "metadata": {
        "colab": {
          "base_uri": "https://localhost:8080/"
        },
        "id": "yQWzmPsCbEAf",
        "outputId": "d2207625-02bc-4045-c1c6-3a93dcbf5dd5"
      },
      "execution_count": 76,
      "outputs": [
        {
          "output_type": "stream",
          "name": "stderr",
          "text": [
            "/usr/local/lib/python3.7/dist-packages/sklearn/feature_extraction/text.py:401: UserWarning: Your stop_words may be inconsistent with your preprocessing. Tokenizing the stop words generated tokens ['``'] not in stop_words.\n",
            "  % sorted(inconsistent)\n",
            "/usr/local/lib/python3.7/dist-packages/sklearn/linear_model/_logistic.py:818: ConvergenceWarning: lbfgs failed to converge (status=1):\n",
            "STOP: TOTAL NO. of ITERATIONS REACHED LIMIT.\n",
            "\n",
            "Increase the number of iterations (max_iter) or scale the data as shown in:\n",
            "    https://scikit-learn.org/stable/modules/preprocessing.html\n",
            "Please also refer to the documentation for alternative solver options:\n",
            "    https://scikit-learn.org/stable/modules/linear_model.html#logistic-regression\n",
            "  extra_warning_msg=_LOGISTIC_SOLVER_CONVERGENCE_MSG,\n"
          ]
        },
        {
          "output_type": "stream",
          "name": "stdout",
          "text": [
            "              precision    recall  f1-score   support\n",
            "\n",
            "    negative       0.80      0.77      0.78     29433\n",
            "    positive       0.76      0.80      0.78     27276\n",
            "\n",
            "    accuracy                           0.78     56709\n",
            "   macro avg       0.78      0.78      0.78     56709\n",
            "weighted avg       0.78      0.78      0.78     56709\n",
            "\n"
          ]
        }
      ]
    },
    {
      "cell_type": "code",
      "source": [
        "bow_cnvec_mid = cnvec_mid.fit_transform(x_train)\n",
        "lr.fit(bow_cnvec_mid, y_train)\n",
        "pred_mid = lr.predict(cnvec_mid.transform(x_test))\n",
        "print(classification_report(pred_mid, y_test))"
      ],
      "metadata": {
        "id": "WaCXj7fLsIXu",
        "colab": {
          "base_uri": "https://localhost:8080/"
        },
        "outputId": "66fe94d1-3f7d-4fec-831a-a043b3300d2f"
      },
      "execution_count": 77,
      "outputs": [
        {
          "output_type": "stream",
          "name": "stderr",
          "text": [
            "/usr/local/lib/python3.7/dist-packages/sklearn/feature_extraction/text.py:401: UserWarning: Your stop_words may be inconsistent with your preprocessing. Tokenizing the stop words generated tokens ['``'] not in stop_words.\n",
            "  % sorted(inconsistent)\n",
            "/usr/local/lib/python3.7/dist-packages/sklearn/linear_model/_logistic.py:818: ConvergenceWarning: lbfgs failed to converge (status=1):\n",
            "STOP: TOTAL NO. of ITERATIONS REACHED LIMIT.\n",
            "\n",
            "Increase the number of iterations (max_iter) or scale the data as shown in:\n",
            "    https://scikit-learn.org/stable/modules/preprocessing.html\n",
            "Please also refer to the documentation for alternative solver options:\n",
            "    https://scikit-learn.org/stable/modules/linear_model.html#logistic-regression\n",
            "  extra_warning_msg=_LOGISTIC_SOLVER_CONVERGENCE_MSG,\n"
          ]
        },
        {
          "output_type": "stream",
          "name": "stdout",
          "text": [
            "              precision    recall  f1-score   support\n",
            "\n",
            "    negative       0.74      0.69      0.72     30137\n",
            "    positive       0.68      0.73      0.70     26572\n",
            "\n",
            "    accuracy                           0.71     56709\n",
            "   macro avg       0.71      0.71      0.71     56709\n",
            "weighted avg       0.71      0.71      0.71     56709\n",
            "\n"
          ]
        }
      ]
    },
    {
      "cell_type": "code",
      "source": [
        "bow_cnvec_low = cnvec_low.fit_transform(x_train)\n",
        "lr.fit(bow_cnvec_low, y_train)\n",
        "pred_low = lr.predict(cnvec_low.transform(x_test))\n",
        "print(classification_report(pred_low, y_test))"
      ],
      "metadata": {
        "id": "_3Owh5VRiY9J",
        "colab": {
          "base_uri": "https://localhost:8080/"
        },
        "outputId": "7af1640b-b243-412f-8fdd-464fe0a83115"
      },
      "execution_count": 78,
      "outputs": [
        {
          "output_type": "stream",
          "name": "stderr",
          "text": [
            "/usr/local/lib/python3.7/dist-packages/sklearn/feature_extraction/text.py:401: UserWarning: Your stop_words may be inconsistent with your preprocessing. Tokenizing the stop words generated tokens ['``'] not in stop_words.\n",
            "  % sorted(inconsistent)\n",
            "/usr/local/lib/python3.7/dist-packages/sklearn/linear_model/_logistic.py:818: ConvergenceWarning: lbfgs failed to converge (status=1):\n",
            "STOP: TOTAL NO. of ITERATIONS REACHED LIMIT.\n",
            "\n",
            "Increase the number of iterations (max_iter) or scale the data as shown in:\n",
            "    https://scikit-learn.org/stable/modules/preprocessing.html\n",
            "Please also refer to the documentation for alternative solver options:\n",
            "    https://scikit-learn.org/stable/modules/linear_model.html#logistic-regression\n",
            "  extra_warning_msg=_LOGISTIC_SOLVER_CONVERGENCE_MSG,\n"
          ]
        },
        {
          "output_type": "stream",
          "name": "stdout",
          "text": [
            "              precision    recall  f1-score   support\n",
            "\n",
            "    negative       0.79      0.76      0.78     29204\n",
            "    positive       0.76      0.79      0.77     27505\n",
            "\n",
            "    accuracy                           0.78     56709\n",
            "   macro avg       0.78      0.78      0.78     56709\n",
            "weighted avg       0.78      0.78      0.78     56709\n",
            "\n"
          ]
        }
      ]
    },
    {
      "cell_type": "markdown",
      "source": [
        "Наиболее выжными для классификации оказались токены с высокой и низкой частотой."
      ],
      "metadata": {
        "id": "i3ItE8eZjmxd"
      }
    },
    {
      "cell_type": "markdown",
      "source": [
        "###Задание 2.\n",
        "найти фичи с наибольшей значимостью, и вывести их"
      ],
      "metadata": {
        "id": "rnrkkx7ypeTQ"
      }
    },
    {
      "cell_type": "code",
      "source": [
        "cnvec_high.get_feature_names()[:10]"
      ],
      "metadata": {
        "id": "CcNGfaW5mTnG",
        "colab": {
          "base_uri": "https://localhost:8080/"
        },
        "outputId": "95d97877-a540-4c38-fa82-109e47fe7201"
      },
      "execution_count": 79,
      "outputs": [
        {
          "output_type": "stream",
          "name": "stderr",
          "text": [
            "/usr/local/lib/python3.7/dist-packages/sklearn/utils/deprecation.py:87: FutureWarning: Function get_feature_names is deprecated; get_feature_names is deprecated in 1.0 and will be removed in 1.2. Please use get_feature_names_out instead.\n",
            "  warnings.warn(msg, category=FutureWarning)\n"
          ]
        },
        {
          "output_type": "execute_result",
          "data": {
            "text/plain": [
              "[\"''\", '++', '+++', '+++++', '++++++++', '+++лучше', '+-', '+.по', '+/-', '+0']"
            ]
          },
          "metadata": {},
          "execution_count": 79
        }
      ]
    },
    {
      "cell_type": "markdown",
      "source": [
        "###Задание 3.\n",
        "1) сравнить count/tf-idf/hashing векторайзеры/полносвязанную сетку (построить classification_report)\n",
        "\n",
        "2) подобрать оптимальный размер для hashing векторайзера\n",
        "\n",
        "3) убедиться что для сетки нет переобучения"
      ],
      "metadata": {
        "id": "pVZPzAuapo8M"
      }
    },
    {
      "cell_type": "code",
      "source": [
        "# 2\n",
        "vct = HashingVectorizer(analyzer='char', n_features=2*100)\n",
        "bow_vct = vct.fit_transform(x_train)\n",
        "lr.fit(bow_vct, y_train)\n",
        "pred = lr.predict(vct.transform(x_test))\n",
        "print(classification_report(pred, y_test))"
      ],
      "metadata": {
        "id": "RRTW5byTnYc2",
        "colab": {
          "base_uri": "https://localhost:8080/"
        },
        "outputId": "78cbaac0-46a6-4e40-8461-a5cdb8e60e8d"
      },
      "execution_count": 80,
      "outputs": [
        {
          "output_type": "stream",
          "name": "stderr",
          "text": [
            "/usr/local/lib/python3.7/dist-packages/sklearn/linear_model/_logistic.py:818: ConvergenceWarning: lbfgs failed to converge (status=1):\n",
            "STOP: TOTAL NO. of ITERATIONS REACHED LIMIT.\n",
            "\n",
            "Increase the number of iterations (max_iter) or scale the data as shown in:\n",
            "    https://scikit-learn.org/stable/modules/preprocessing.html\n",
            "Please also refer to the documentation for alternative solver options:\n",
            "    https://scikit-learn.org/stable/modules/linear_model.html#logistic-regression\n",
            "  extra_warning_msg=_LOGISTIC_SOLVER_CONVERGENCE_MSG,\n"
          ]
        },
        {
          "output_type": "stream",
          "name": "stdout",
          "text": [
            "              precision    recall  f1-score   support\n",
            "\n",
            "    negative       0.99      1.00      0.99     27768\n",
            "    positive       1.00      0.99      0.99     28941\n",
            "\n",
            "    accuracy                           0.99     56709\n",
            "   macro avg       0.99      0.99      0.99     56709\n",
            "weighted avg       0.99      0.99      0.99     56709\n",
            "\n"
          ]
        }
      ]
    }
  ]
}